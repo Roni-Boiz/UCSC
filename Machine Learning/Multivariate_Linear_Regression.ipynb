{
  "nbformat": 4,
  "nbformat_minor": 0,
  "metadata": {
    "colab": {
      "provenance": [],
      "collapsed_sections": []
    },
    "kernelspec": {
      "name": "python3",
      "display_name": "Python 3"
    },
    "language_info": {
      "name": "python"
    }
  },
  "cells": [
    {
      "cell_type": "code",
      "execution_count": null,
      "metadata": {
        "id": "IlI2BkdOGqhY",
        "colab": {
          "base_uri": "https://localhost:8080/"
        },
        "outputId": "0aee965c-0309-4af9-9082-fbeb1a37a7c0"
      },
      "outputs": [
        {
          "output_type": "stream",
          "name": "stdout",
          "text": [
            "Mounted at /content/drive\n"
          ]
        }
      ],
      "source": [
        "# Mounting Drive to access dataset in the drive\n",
        "from google.colab import drive\n",
        "drive.mount('/content/drive')"
      ]
    },
    {
      "cell_type": "code",
      "source": [
        "# Import required libraries\n",
        "import pandas as pd\n",
        "import numpy as np"
      ],
      "metadata": {
        "id": "IdVyW_ZiIz05"
      },
      "execution_count": null,
      "outputs": []
    },
    {
      "cell_type": "code",
      "source": [
        "# pd.__version__\n",
        "# pip install --upgrade pip\n",
        "\n",
        "# Install xlrd to extract data from spreadsheets\n",
        "# pip install xlrd latest"
      ],
      "metadata": {
        "id": "QZu9z_0bLVJw"
      },
      "execution_count": null,
      "outputs": []
    },
    {
      "cell_type": "code",
      "source": [
        "# Pandas will detect standard missing values NaN, empty values\n",
        "\n",
        "# handling non startderd missing values\n",
        "missing_values = [\"n/a\", \"na\", \"--\", \"\", 0]\n",
        "\n",
        "path = \"/content/drive/MyDrive/Machine_Learning/Concrete_Data.csv\"\n",
        "df = pd.read_csv(path, na_values = missing_values)\n",
        "df.columns = [\"cement\", \"slag\", \"flyAsh\", \"water\", \"superplasticizer\", \"coarseAgg\", \"fineAgg\", \"age\", \"concreteStrength\"]\n",
        "df.head()"
      ],
      "metadata": {
        "colab": {
          "base_uri": "https://localhost:8080/",
          "height": 206
        },
        "id": "9hKi6S6rIxQR",
        "outputId": "21d7ce21-2259-4842-bc19-eae467f85564"
      },
      "execution_count": null,
      "outputs": [
        {
          "output_type": "execute_result",
          "data": {
            "text/plain": [
              "   cement   slag  flyAsh  water  superplasticizer  coarseAgg  fineAgg  age  \\\n",
              "0   540.0    NaN     NaN  162.0               2.5     1040.0    676.0   28   \n",
              "1   540.0    NaN     NaN  162.0               2.5     1055.0    676.0   28   \n",
              "2   332.5  142.5     NaN  228.0               NaN      932.0    594.0  270   \n",
              "3   332.5  142.5     NaN  228.0               NaN      932.0    594.0  365   \n",
              "4   198.6  132.4     NaN  192.0               NaN      978.4    825.5  360   \n",
              "\n",
              "   concreteStrength  \n",
              "0             79.99  \n",
              "1             61.89  \n",
              "2             40.27  \n",
              "3             41.05  \n",
              "4             44.30  "
            ],
            "text/html": [
              "\n",
              "  <div id=\"df-4bf17c07-1fd6-40e4-b907-0904ebecb6ed\">\n",
              "    <div class=\"colab-df-container\">\n",
              "      <div>\n",
              "<style scoped>\n",
              "    .dataframe tbody tr th:only-of-type {\n",
              "        vertical-align: middle;\n",
              "    }\n",
              "\n",
              "    .dataframe tbody tr th {\n",
              "        vertical-align: top;\n",
              "    }\n",
              "\n",
              "    .dataframe thead th {\n",
              "        text-align: right;\n",
              "    }\n",
              "</style>\n",
              "<table border=\"1\" class=\"dataframe\">\n",
              "  <thead>\n",
              "    <tr style=\"text-align: right;\">\n",
              "      <th></th>\n",
              "      <th>cement</th>\n",
              "      <th>slag</th>\n",
              "      <th>flyAsh</th>\n",
              "      <th>water</th>\n",
              "      <th>superplasticizer</th>\n",
              "      <th>coarseAgg</th>\n",
              "      <th>fineAgg</th>\n",
              "      <th>age</th>\n",
              "      <th>concreteStrength</th>\n",
              "    </tr>\n",
              "  </thead>\n",
              "  <tbody>\n",
              "    <tr>\n",
              "      <th>0</th>\n",
              "      <td>540.0</td>\n",
              "      <td>NaN</td>\n",
              "      <td>NaN</td>\n",
              "      <td>162.0</td>\n",
              "      <td>2.5</td>\n",
              "      <td>1040.0</td>\n",
              "      <td>676.0</td>\n",
              "      <td>28</td>\n",
              "      <td>79.99</td>\n",
              "    </tr>\n",
              "    <tr>\n",
              "      <th>1</th>\n",
              "      <td>540.0</td>\n",
              "      <td>NaN</td>\n",
              "      <td>NaN</td>\n",
              "      <td>162.0</td>\n",
              "      <td>2.5</td>\n",
              "      <td>1055.0</td>\n",
              "      <td>676.0</td>\n",
              "      <td>28</td>\n",
              "      <td>61.89</td>\n",
              "    </tr>\n",
              "    <tr>\n",
              "      <th>2</th>\n",
              "      <td>332.5</td>\n",
              "      <td>142.5</td>\n",
              "      <td>NaN</td>\n",
              "      <td>228.0</td>\n",
              "      <td>NaN</td>\n",
              "      <td>932.0</td>\n",
              "      <td>594.0</td>\n",
              "      <td>270</td>\n",
              "      <td>40.27</td>\n",
              "    </tr>\n",
              "    <tr>\n",
              "      <th>3</th>\n",
              "      <td>332.5</td>\n",
              "      <td>142.5</td>\n",
              "      <td>NaN</td>\n",
              "      <td>228.0</td>\n",
              "      <td>NaN</td>\n",
              "      <td>932.0</td>\n",
              "      <td>594.0</td>\n",
              "      <td>365</td>\n",
              "      <td>41.05</td>\n",
              "    </tr>\n",
              "    <tr>\n",
              "      <th>4</th>\n",
              "      <td>198.6</td>\n",
              "      <td>132.4</td>\n",
              "      <td>NaN</td>\n",
              "      <td>192.0</td>\n",
              "      <td>NaN</td>\n",
              "      <td>978.4</td>\n",
              "      <td>825.5</td>\n",
              "      <td>360</td>\n",
              "      <td>44.30</td>\n",
              "    </tr>\n",
              "  </tbody>\n",
              "</table>\n",
              "</div>\n",
              "      <button class=\"colab-df-convert\" onclick=\"convertToInteractive('df-4bf17c07-1fd6-40e4-b907-0904ebecb6ed')\"\n",
              "              title=\"Convert this dataframe to an interactive table.\"\n",
              "              style=\"display:none;\">\n",
              "        \n",
              "  <svg xmlns=\"http://www.w3.org/2000/svg\" height=\"24px\"viewBox=\"0 0 24 24\"\n",
              "       width=\"24px\">\n",
              "    <path d=\"M0 0h24v24H0V0z\" fill=\"none\"/>\n",
              "    <path d=\"M18.56 5.44l.94 2.06.94-2.06 2.06-.94-2.06-.94-.94-2.06-.94 2.06-2.06.94zm-11 1L8.5 8.5l.94-2.06 2.06-.94-2.06-.94L8.5 2.5l-.94 2.06-2.06.94zm10 10l.94 2.06.94-2.06 2.06-.94-2.06-.94-.94-2.06-.94 2.06-2.06.94z\"/><path d=\"M17.41 7.96l-1.37-1.37c-.4-.4-.92-.59-1.43-.59-.52 0-1.04.2-1.43.59L10.3 9.45l-7.72 7.72c-.78.78-.78 2.05 0 2.83L4 21.41c.39.39.9.59 1.41.59.51 0 1.02-.2 1.41-.59l7.78-7.78 2.81-2.81c.8-.78.8-2.07 0-2.86zM5.41 20L4 18.59l7.72-7.72 1.47 1.35L5.41 20z\"/>\n",
              "  </svg>\n",
              "      </button>\n",
              "      \n",
              "  <style>\n",
              "    .colab-df-container {\n",
              "      display:flex;\n",
              "      flex-wrap:wrap;\n",
              "      gap: 12px;\n",
              "    }\n",
              "\n",
              "    .colab-df-convert {\n",
              "      background-color: #E8F0FE;\n",
              "      border: none;\n",
              "      border-radius: 50%;\n",
              "      cursor: pointer;\n",
              "      display: none;\n",
              "      fill: #1967D2;\n",
              "      height: 32px;\n",
              "      padding: 0 0 0 0;\n",
              "      width: 32px;\n",
              "    }\n",
              "\n",
              "    .colab-df-convert:hover {\n",
              "      background-color: #E2EBFA;\n",
              "      box-shadow: 0px 1px 2px rgba(60, 64, 67, 0.3), 0px 1px 3px 1px rgba(60, 64, 67, 0.15);\n",
              "      fill: #174EA6;\n",
              "    }\n",
              "\n",
              "    [theme=dark] .colab-df-convert {\n",
              "      background-color: #3B4455;\n",
              "      fill: #D2E3FC;\n",
              "    }\n",
              "\n",
              "    [theme=dark] .colab-df-convert:hover {\n",
              "      background-color: #434B5C;\n",
              "      box-shadow: 0px 1px 3px 1px rgba(0, 0, 0, 0.15);\n",
              "      filter: drop-shadow(0px 1px 2px rgba(0, 0, 0, 0.3));\n",
              "      fill: #FFFFFF;\n",
              "    }\n",
              "  </style>\n",
              "\n",
              "      <script>\n",
              "        const buttonEl =\n",
              "          document.querySelector('#df-4bf17c07-1fd6-40e4-b907-0904ebecb6ed button.colab-df-convert');\n",
              "        buttonEl.style.display =\n",
              "          google.colab.kernel.accessAllowed ? 'block' : 'none';\n",
              "\n",
              "        async function convertToInteractive(key) {\n",
              "          const element = document.querySelector('#df-4bf17c07-1fd6-40e4-b907-0904ebecb6ed');\n",
              "          const dataTable =\n",
              "            await google.colab.kernel.invokeFunction('convertToInteractive',\n",
              "                                                     [key], {});\n",
              "          if (!dataTable) return;\n",
              "\n",
              "          const docLinkHtml = 'Like what you see? Visit the ' +\n",
              "            '<a target=\"_blank\" href=https://colab.research.google.com/notebooks/data_table.ipynb>data table notebook</a>'\n",
              "            + ' to learn more about interactive tables.';\n",
              "          element.innerHTML = '';\n",
              "          dataTable['output_type'] = 'display_data';\n",
              "          await google.colab.output.renderOutput(dataTable, element);\n",
              "          const docLink = document.createElement('div');\n",
              "          docLink.innerHTML = docLinkHtml;\n",
              "          element.appendChild(docLink);\n",
              "        }\n",
              "      </script>\n",
              "    </div>\n",
              "  </div>\n",
              "  "
            ]
          },
          "metadata": {},
          "execution_count": 5
        }
      ]
    },
    {
      "cell_type": "code",
      "source": [
        "# Preprocessing\n",
        "print(df.isnull().values.any())\n",
        "print(df.isnull().sum())\n",
        "\n",
        "# codes, uniques = pd.factorize(['b', 'b', 'a', 'c', 'b'])\n",
        "# features_df['gender'], unique_value_dict['gender'] = pd.factorize(features_df.gender)\n",
        "# features_df['gender'] = features_df['gender'].astype(\"int\")\n",
        "\n",
        "median_cement = round(df.iloc[:,0].median(), 1)\n",
        "median_slag = round(df.iloc[:,1].median(), 1)\n",
        "median_fly_ash =round(df.iloc[:,2].median(), 1)\n",
        "median_water = round(df.iloc[:,3].median(), 1)\n",
        "median_superplasticizer = round(df.iloc[:,4].median(), 1)\n",
        "median_coarse_aggregate = round(df.iloc[:,5].median(), 1)\n",
        "median_fine_aggregate = round(df.iloc[:,6].median(), 1)\n",
        "median_age = round(df.iloc[:,7].median())\n",
        "# median_cement, median_slag, median_fly_ash, median_water, median_superplasticizer, median_coarse_aggregate, median_fine_aggregate, median_age, median_concrete_strength = df.median(axis=0)\n",
        "\n",
        "print(df.iloc[:,0].median())\n",
        "print(median_cement, median_slag, median_fly_ash, median_water, median_superplasticizer, median_coarse_aggregate, median_fine_aggregate, median_age)\n"
      ],
      "metadata": {
        "colab": {
          "base_uri": "https://localhost:8080/"
        },
        "id": "mdFRs87QI3m9",
        "outputId": "429d0458-1563-48bc-96d2-91025d0c7e33"
      },
      "execution_count": null,
      "outputs": [
        {
          "output_type": "stream",
          "name": "stdout",
          "text": [
            "True\n",
            "cement                0\n",
            "slag                471\n",
            "flyAsh              566\n",
            "water                 0\n",
            "superplasticizer    379\n",
            "coarseAgg             0\n",
            "fineAgg               0\n",
            "age                   0\n",
            "concreteStrength      0\n",
            "dtype: int64\n",
            "272.9\n",
            "272.9 135.7 121.4 185.0 9.4 968.0 779.5 28\n"
          ]
        }
      ]
    },
    {
      "cell_type": "code",
      "source": [
        "df.iloc[:,0].fillna(median_cement, inplace=True);\n",
        "df.iloc[:,1].fillna(median_slag, inplace=True);\n",
        "df.iloc[:,2].fillna(median_fly_ash, inplace=True);\n",
        "df.iloc[:,3].fillna(median_water, inplace=True);\n",
        "df.iloc[:,4].fillna(median_superplasticizer, inplace=True);\n",
        "df.iloc[:,5].fillna(median_coarse_aggregate, inplace=True);\n",
        "df.iloc[:,6].fillna(median_fine_aggregate, inplace=True);\n",
        "df.iloc[:,7].fillna(median_age, inplace=True);\n",
        "\n",
        "# dataset have no Unexpected missing values eg- expected to be a string, but there’s a numeric type\n",
        "df"
      ],
      "metadata": {
        "colab": {
          "base_uri": "https://localhost:8080/",
          "height": 424
        },
        "id": "aOLzGKOiVW5T",
        "outputId": "d233ac13-0097-4da0-f5ac-245fbfa065f7"
      },
      "execution_count": null,
      "outputs": [
        {
          "output_type": "execute_result",
          "data": {
            "text/plain": [
              "      cement   slag  flyAsh  water  superplasticizer  coarseAgg  fineAgg  age  \\\n",
              "0      540.0  135.7   121.4  162.0               2.5     1040.0    676.0   28   \n",
              "1      540.0  135.7   121.4  162.0               2.5     1055.0    676.0   28   \n",
              "2      332.5  142.5   121.4  228.0               9.4      932.0    594.0  270   \n",
              "3      332.5  142.5   121.4  228.0               9.4      932.0    594.0  365   \n",
              "4      198.6  132.4   121.4  192.0               9.4      978.4    825.5  360   \n",
              "...      ...    ...     ...    ...               ...        ...      ...  ...   \n",
              "1025   276.4  116.0    90.3  179.6               8.9      870.1    768.3   28   \n",
              "1026   322.2  135.7   115.6  196.0              10.4      817.9    813.4   28   \n",
              "1027   148.5  139.4   108.6  192.7               6.1      892.4    780.0   28   \n",
              "1028   159.1  186.7   121.4  175.6              11.3      989.6    788.9   28   \n",
              "1029   260.9  100.5    78.3  200.6               8.6      864.5    761.5   28   \n",
              "\n",
              "      concreteStrength  \n",
              "0                79.99  \n",
              "1                61.89  \n",
              "2                40.27  \n",
              "3                41.05  \n",
              "4                44.30  \n",
              "...                ...  \n",
              "1025             44.28  \n",
              "1026             31.18  \n",
              "1027             23.70  \n",
              "1028             32.77  \n",
              "1029             32.40  \n",
              "\n",
              "[1030 rows x 9 columns]"
            ],
            "text/html": [
              "\n",
              "  <div id=\"df-85d18714-3b57-4e64-b740-aa7a6a4108c0\">\n",
              "    <div class=\"colab-df-container\">\n",
              "      <div>\n",
              "<style scoped>\n",
              "    .dataframe tbody tr th:only-of-type {\n",
              "        vertical-align: middle;\n",
              "    }\n",
              "\n",
              "    .dataframe tbody tr th {\n",
              "        vertical-align: top;\n",
              "    }\n",
              "\n",
              "    .dataframe thead th {\n",
              "        text-align: right;\n",
              "    }\n",
              "</style>\n",
              "<table border=\"1\" class=\"dataframe\">\n",
              "  <thead>\n",
              "    <tr style=\"text-align: right;\">\n",
              "      <th></th>\n",
              "      <th>cement</th>\n",
              "      <th>slag</th>\n",
              "      <th>flyAsh</th>\n",
              "      <th>water</th>\n",
              "      <th>superplasticizer</th>\n",
              "      <th>coarseAgg</th>\n",
              "      <th>fineAgg</th>\n",
              "      <th>age</th>\n",
              "      <th>concreteStrength</th>\n",
              "    </tr>\n",
              "  </thead>\n",
              "  <tbody>\n",
              "    <tr>\n",
              "      <th>0</th>\n",
              "      <td>540.0</td>\n",
              "      <td>135.7</td>\n",
              "      <td>121.4</td>\n",
              "      <td>162.0</td>\n",
              "      <td>2.5</td>\n",
              "      <td>1040.0</td>\n",
              "      <td>676.0</td>\n",
              "      <td>28</td>\n",
              "      <td>79.99</td>\n",
              "    </tr>\n",
              "    <tr>\n",
              "      <th>1</th>\n",
              "      <td>540.0</td>\n",
              "      <td>135.7</td>\n",
              "      <td>121.4</td>\n",
              "      <td>162.0</td>\n",
              "      <td>2.5</td>\n",
              "      <td>1055.0</td>\n",
              "      <td>676.0</td>\n",
              "      <td>28</td>\n",
              "      <td>61.89</td>\n",
              "    </tr>\n",
              "    <tr>\n",
              "      <th>2</th>\n",
              "      <td>332.5</td>\n",
              "      <td>142.5</td>\n",
              "      <td>121.4</td>\n",
              "      <td>228.0</td>\n",
              "      <td>9.4</td>\n",
              "      <td>932.0</td>\n",
              "      <td>594.0</td>\n",
              "      <td>270</td>\n",
              "      <td>40.27</td>\n",
              "    </tr>\n",
              "    <tr>\n",
              "      <th>3</th>\n",
              "      <td>332.5</td>\n",
              "      <td>142.5</td>\n",
              "      <td>121.4</td>\n",
              "      <td>228.0</td>\n",
              "      <td>9.4</td>\n",
              "      <td>932.0</td>\n",
              "      <td>594.0</td>\n",
              "      <td>365</td>\n",
              "      <td>41.05</td>\n",
              "    </tr>\n",
              "    <tr>\n",
              "      <th>4</th>\n",
              "      <td>198.6</td>\n",
              "      <td>132.4</td>\n",
              "      <td>121.4</td>\n",
              "      <td>192.0</td>\n",
              "      <td>9.4</td>\n",
              "      <td>978.4</td>\n",
              "      <td>825.5</td>\n",
              "      <td>360</td>\n",
              "      <td>44.30</td>\n",
              "    </tr>\n",
              "    <tr>\n",
              "      <th>...</th>\n",
              "      <td>...</td>\n",
              "      <td>...</td>\n",
              "      <td>...</td>\n",
              "      <td>...</td>\n",
              "      <td>...</td>\n",
              "      <td>...</td>\n",
              "      <td>...</td>\n",
              "      <td>...</td>\n",
              "      <td>...</td>\n",
              "    </tr>\n",
              "    <tr>\n",
              "      <th>1025</th>\n",
              "      <td>276.4</td>\n",
              "      <td>116.0</td>\n",
              "      <td>90.3</td>\n",
              "      <td>179.6</td>\n",
              "      <td>8.9</td>\n",
              "      <td>870.1</td>\n",
              "      <td>768.3</td>\n",
              "      <td>28</td>\n",
              "      <td>44.28</td>\n",
              "    </tr>\n",
              "    <tr>\n",
              "      <th>1026</th>\n",
              "      <td>322.2</td>\n",
              "      <td>135.7</td>\n",
              "      <td>115.6</td>\n",
              "      <td>196.0</td>\n",
              "      <td>10.4</td>\n",
              "      <td>817.9</td>\n",
              "      <td>813.4</td>\n",
              "      <td>28</td>\n",
              "      <td>31.18</td>\n",
              "    </tr>\n",
              "    <tr>\n",
              "      <th>1027</th>\n",
              "      <td>148.5</td>\n",
              "      <td>139.4</td>\n",
              "      <td>108.6</td>\n",
              "      <td>192.7</td>\n",
              "      <td>6.1</td>\n",
              "      <td>892.4</td>\n",
              "      <td>780.0</td>\n",
              "      <td>28</td>\n",
              "      <td>23.70</td>\n",
              "    </tr>\n",
              "    <tr>\n",
              "      <th>1028</th>\n",
              "      <td>159.1</td>\n",
              "      <td>186.7</td>\n",
              "      <td>121.4</td>\n",
              "      <td>175.6</td>\n",
              "      <td>11.3</td>\n",
              "      <td>989.6</td>\n",
              "      <td>788.9</td>\n",
              "      <td>28</td>\n",
              "      <td>32.77</td>\n",
              "    </tr>\n",
              "    <tr>\n",
              "      <th>1029</th>\n",
              "      <td>260.9</td>\n",
              "      <td>100.5</td>\n",
              "      <td>78.3</td>\n",
              "      <td>200.6</td>\n",
              "      <td>8.6</td>\n",
              "      <td>864.5</td>\n",
              "      <td>761.5</td>\n",
              "      <td>28</td>\n",
              "      <td>32.40</td>\n",
              "    </tr>\n",
              "  </tbody>\n",
              "</table>\n",
              "<p>1030 rows × 9 columns</p>\n",
              "</div>\n",
              "      <button class=\"colab-df-convert\" onclick=\"convertToInteractive('df-85d18714-3b57-4e64-b740-aa7a6a4108c0')\"\n",
              "              title=\"Convert this dataframe to an interactive table.\"\n",
              "              style=\"display:none;\">\n",
              "        \n",
              "  <svg xmlns=\"http://www.w3.org/2000/svg\" height=\"24px\"viewBox=\"0 0 24 24\"\n",
              "       width=\"24px\">\n",
              "    <path d=\"M0 0h24v24H0V0z\" fill=\"none\"/>\n",
              "    <path d=\"M18.56 5.44l.94 2.06.94-2.06 2.06-.94-2.06-.94-.94-2.06-.94 2.06-2.06.94zm-11 1L8.5 8.5l.94-2.06 2.06-.94-2.06-.94L8.5 2.5l-.94 2.06-2.06.94zm10 10l.94 2.06.94-2.06 2.06-.94-2.06-.94-.94-2.06-.94 2.06-2.06.94z\"/><path d=\"M17.41 7.96l-1.37-1.37c-.4-.4-.92-.59-1.43-.59-.52 0-1.04.2-1.43.59L10.3 9.45l-7.72 7.72c-.78.78-.78 2.05 0 2.83L4 21.41c.39.39.9.59 1.41.59.51 0 1.02-.2 1.41-.59l7.78-7.78 2.81-2.81c.8-.78.8-2.07 0-2.86zM5.41 20L4 18.59l7.72-7.72 1.47 1.35L5.41 20z\"/>\n",
              "  </svg>\n",
              "      </button>\n",
              "      \n",
              "  <style>\n",
              "    .colab-df-container {\n",
              "      display:flex;\n",
              "      flex-wrap:wrap;\n",
              "      gap: 12px;\n",
              "    }\n",
              "\n",
              "    .colab-df-convert {\n",
              "      background-color: #E8F0FE;\n",
              "      border: none;\n",
              "      border-radius: 50%;\n",
              "      cursor: pointer;\n",
              "      display: none;\n",
              "      fill: #1967D2;\n",
              "      height: 32px;\n",
              "      padding: 0 0 0 0;\n",
              "      width: 32px;\n",
              "    }\n",
              "\n",
              "    .colab-df-convert:hover {\n",
              "      background-color: #E2EBFA;\n",
              "      box-shadow: 0px 1px 2px rgba(60, 64, 67, 0.3), 0px 1px 3px 1px rgba(60, 64, 67, 0.15);\n",
              "      fill: #174EA6;\n",
              "    }\n",
              "\n",
              "    [theme=dark] .colab-df-convert {\n",
              "      background-color: #3B4455;\n",
              "      fill: #D2E3FC;\n",
              "    }\n",
              "\n",
              "    [theme=dark] .colab-df-convert:hover {\n",
              "      background-color: #434B5C;\n",
              "      box-shadow: 0px 1px 3px 1px rgba(0, 0, 0, 0.15);\n",
              "      filter: drop-shadow(0px 1px 2px rgba(0, 0, 0, 0.3));\n",
              "      fill: #FFFFFF;\n",
              "    }\n",
              "  </style>\n",
              "\n",
              "      <script>\n",
              "        const buttonEl =\n",
              "          document.querySelector('#df-85d18714-3b57-4e64-b740-aa7a6a4108c0 button.colab-df-convert');\n",
              "        buttonEl.style.display =\n",
              "          google.colab.kernel.accessAllowed ? 'block' : 'none';\n",
              "\n",
              "        async function convertToInteractive(key) {\n",
              "          const element = document.querySelector('#df-85d18714-3b57-4e64-b740-aa7a6a4108c0');\n",
              "          const dataTable =\n",
              "            await google.colab.kernel.invokeFunction('convertToInteractive',\n",
              "                                                     [key], {});\n",
              "          if (!dataTable) return;\n",
              "\n",
              "          const docLinkHtml = 'Like what you see? Visit the ' +\n",
              "            '<a target=\"_blank\" href=https://colab.research.google.com/notebooks/data_table.ipynb>data table notebook</a>'\n",
              "            + ' to learn more about interactive tables.';\n",
              "          element.innerHTML = '';\n",
              "          dataTable['output_type'] = 'display_data';\n",
              "          await google.colab.output.renderOutput(dataTable, element);\n",
              "          const docLink = document.createElement('div');\n",
              "          docLink.innerHTML = docLinkHtml;\n",
              "          element.appendChild(docLink);\n",
              "        }\n",
              "      </script>\n",
              "    </div>\n",
              "  </div>\n",
              "  "
            ]
          },
          "metadata": {},
          "execution_count": 7
        }
      ]
    },
    {
      "cell_type": "code",
      "source": [
        "from seaborn import heatmap\n",
        "corrmat = df.corr()\n",
        "top_corr_features = corrmat.index\n",
        "plt.figure(figsize=(10,10))\n",
        "#plot heat map\n",
        "g = heatmap(df[:].corr(),annot=True,cmap=\"RdYlGn\")"
      ],
      "metadata": {
        "colab": {
          "base_uri": "https://localhost:8080/",
          "height": 235
        },
        "id": "g5O1VxU6KXDa",
        "outputId": "fd4b65cf-1219-4a73-9482-d45122d85c57"
      },
      "execution_count": null,
      "outputs": [
        {
          "output_type": "error",
          "ename": "NameError",
          "evalue": "ignored",
          "traceback": [
            "\u001b[0;31m---------------------------------------------------------------------------\u001b[0m",
            "\u001b[0;31mNameError\u001b[0m                                 Traceback (most recent call last)",
            "\u001b[0;32m<ipython-input-8-39d5c2f0a9ed>\u001b[0m in \u001b[0;36m<module>\u001b[0;34m()\u001b[0m\n\u001b[1;32m      2\u001b[0m \u001b[0mcorrmat\u001b[0m \u001b[0;34m=\u001b[0m \u001b[0mdf\u001b[0m\u001b[0;34m.\u001b[0m\u001b[0mcorr\u001b[0m\u001b[0;34m(\u001b[0m\u001b[0;34m)\u001b[0m\u001b[0;34m\u001b[0m\u001b[0;34m\u001b[0m\u001b[0m\n\u001b[1;32m      3\u001b[0m \u001b[0mtop_corr_features\u001b[0m \u001b[0;34m=\u001b[0m \u001b[0mcorrmat\u001b[0m\u001b[0;34m.\u001b[0m\u001b[0mindex\u001b[0m\u001b[0;34m\u001b[0m\u001b[0;34m\u001b[0m\u001b[0m\n\u001b[0;32m----> 4\u001b[0;31m \u001b[0mplt\u001b[0m\u001b[0;34m.\u001b[0m\u001b[0mfigure\u001b[0m\u001b[0;34m(\u001b[0m\u001b[0mfigsize\u001b[0m\u001b[0;34m=\u001b[0m\u001b[0;34m(\u001b[0m\u001b[0;36m10\u001b[0m\u001b[0;34m,\u001b[0m\u001b[0;36m10\u001b[0m\u001b[0;34m)\u001b[0m\u001b[0;34m)\u001b[0m\u001b[0;34m\u001b[0m\u001b[0;34m\u001b[0m\u001b[0m\n\u001b[0m\u001b[1;32m      5\u001b[0m \u001b[0;31m#plot heat map\u001b[0m\u001b[0;34m\u001b[0m\u001b[0;34m\u001b[0m\u001b[0;34m\u001b[0m\u001b[0m\n\u001b[1;32m      6\u001b[0m \u001b[0mg\u001b[0m \u001b[0;34m=\u001b[0m \u001b[0mheatmap\u001b[0m\u001b[0;34m(\u001b[0m\u001b[0mdf\u001b[0m\u001b[0;34m[\u001b[0m\u001b[0;34m:\u001b[0m\u001b[0;34m]\u001b[0m\u001b[0;34m.\u001b[0m\u001b[0mcorr\u001b[0m\u001b[0;34m(\u001b[0m\u001b[0;34m)\u001b[0m\u001b[0;34m,\u001b[0m\u001b[0mannot\u001b[0m\u001b[0;34m=\u001b[0m\u001b[0;32mTrue\u001b[0m\u001b[0;34m,\u001b[0m\u001b[0mcmap\u001b[0m\u001b[0;34m=\u001b[0m\u001b[0;34m\"RdYlGn\"\u001b[0m\u001b[0;34m)\u001b[0m\u001b[0;34m\u001b[0m\u001b[0;34m\u001b[0m\u001b[0m\n",
            "\u001b[0;31mNameError\u001b[0m: name 'plt' is not defined"
          ]
        }
      ]
    },
    {
      "cell_type": "code",
      "source": [
        "x = df.drop(['concreteStrength'], axis=\"columns\").values\n",
        "y = df['concreteStrength'].values"
      ],
      "metadata": {
        "id": "jCtiTB8AfBke"
      },
      "execution_count": null,
      "outputs": []
    },
    {
      "cell_type": "code",
      "source": [
        "x"
      ],
      "metadata": {
        "colab": {
          "base_uri": "https://localhost:8080/"
        },
        "id": "Cg-N02LjfOnG",
        "outputId": "19b37dbd-e6c1-4903-9a00-c7647eedbaa6"
      },
      "execution_count": null,
      "outputs": [
        {
          "output_type": "execute_result",
          "data": {
            "text/plain": [
              "array([[ 540. ,  135.7,  121.4, ..., 1040. ,  676. ,   28. ],\n",
              "       [ 540. ,  135.7,  121.4, ..., 1055. ,  676. ,   28. ],\n",
              "       [ 332.5,  142.5,  121.4, ...,  932. ,  594. ,  270. ],\n",
              "       ...,\n",
              "       [ 148.5,  139.4,  108.6, ...,  892.4,  780. ,   28. ],\n",
              "       [ 159.1,  186.7,  121.4, ...,  989.6,  788.9,   28. ],\n",
              "       [ 260.9,  100.5,   78.3, ...,  864.5,  761.5,   28. ]])"
            ]
          },
          "metadata": {},
          "execution_count": 10
        }
      ]
    },
    {
      "cell_type": "code",
      "source": [
        "y"
      ],
      "metadata": {
        "colab": {
          "base_uri": "https://localhost:8080/"
        },
        "id": "9KgVGiS_fRrR",
        "outputId": "db888bed-de10-4070-cd64-789c1192338c"
      },
      "execution_count": null,
      "outputs": [
        {
          "output_type": "execute_result",
          "data": {
            "text/plain": [
              "array([79.99, 61.89, 40.27, ..., 23.7 , 32.77, 32.4 ])"
            ]
          },
          "metadata": {},
          "execution_count": 11
        }
      ]
    },
    {
      "cell_type": "code",
      "source": [
        "# df = df.drop([\"water\"], axis='columns')\n",
        "# df"
      ],
      "metadata": {
        "id": "cR7fG8y-Lh3z"
      },
      "execution_count": null,
      "outputs": []
    },
    {
      "cell_type": "code",
      "source": [
        "# Classify dataset into major three categories\n",
        "\n",
        "# 1. Training Data\n",
        "\n",
        "# 2. Validation Data\n",
        "# Since data set is small we do not allocate validation data\n",
        "\n",
        "# last cupple of records use for test purposes\n",
        "# 3. Test Data\n",
        "\n",
        "from sklearn.model_selection import train_test_split\n",
        "x_train, x_test, y_train, y_test = train_test_split(x, y, test_size=0.1, random_state=0)"
      ],
      "metadata": {
        "id": "b5hjqxyJfx6e"
      },
      "execution_count": null,
      "outputs": []
    },
    {
      "cell_type": "code",
      "source": [
        "# Linear Regression Model\n",
        "from sklearn.linear_model import LinearRegression\n",
        "lr = LinearRegression()\n",
        "lr.fit(x_train, y_train)"
      ],
      "metadata": {
        "colab": {
          "base_uri": "https://localhost:8080/"
        },
        "id": "LmPWDE2cgIf3",
        "outputId": "363eac06-114d-4d86-bb7d-86839edbd637"
      },
      "execution_count": null,
      "outputs": [
        {
          "output_type": "execute_result",
          "data": {
            "text/plain": [
              "LinearRegression()"
            ]
          },
          "metadata": {},
          "execution_count": 27
        }
      ]
    },
    {
      "cell_type": "code",
      "source": [
        "lr.score(x_train, y_train)"
      ],
      "metadata": {
        "colab": {
          "base_uri": "https://localhost:8080/"
        },
        "id": "oR6e7b26WPLr",
        "outputId": "b4d344e2-3eeb-4265-d69c-3895060cd5d3"
      },
      "execution_count": null,
      "outputs": [
        {
          "output_type": "execute_result",
          "data": {
            "text/plain": [
              "0.5978767130915875"
            ]
          },
          "metadata": {},
          "execution_count": 22
        }
      ]
    },
    {
      "cell_type": "code",
      "source": [
        "y_pred = lr.predict(x_test)\n",
        "y_pred"
      ],
      "metadata": {
        "colab": {
          "base_uri": "https://localhost:8080/"
        },
        "id": "Zl8u7j50xHXW",
        "outputId": "2acee35a-225f-40cd-fa1b-7ecdd2876e3e"
      },
      "execution_count": null,
      "outputs": [
        {
          "output_type": "execute_result",
          "data": {
            "text/plain": [
              "array([33.93658311, 11.77308356, 58.50492149, 61.75422036, 24.49000965,\n",
              "       50.23690948, 52.57862405, 27.16028063, 64.54930621, 36.63452803,\n",
              "       17.88476161, 35.26239103, 31.2744244 , 33.83562621, 54.5636997 ,\n",
              "       60.74791066, 37.96439974, 30.62067311, 51.51172571, 37.38336176,\n",
              "       50.21923772, 33.74316778, 28.73429066, 51.05621243, 25.03712503,\n",
              "       24.28510478, 55.89486633, 28.16673545, 60.74791066, 53.01836005,\n",
              "       18.9594436 , 44.60501126, 15.15009475, 18.67346237, 27.12688833,\n",
              "       14.20571655, 49.7813962 , 30.51202914, 26.19228572, 28.36852724,\n",
              "       49.27634168, 35.10883266, 29.76370652, 28.07767602, 78.37775046,\n",
              "       48.09961118, 33.10342764, 41.3554856 , 27.84580855, 56.39889557,\n",
              "       41.25874333, 19.41773727, 19.93115652, 36.28507051, 36.27691512,\n",
              "       51.23201128, 38.5008585 , 58.40822686, 54.13516218, 42.73569278,\n",
              "       34.0048179 , 21.95941324, 46.57591672, 47.45277974, 16.75915685,\n",
              "       50.51710704, 39.68634983, 31.17047061, 21.57587806, 21.59720965,\n",
              "       24.21619391, 27.10364665, 48.55512446, 22.96313961, 34.73811117,\n",
              "       54.71235966, 32.12907832, 17.42093997, 25.3085176 , 31.90860608,\n",
              "       28.20045874, 45.92770317, 35.65390048, 29.43094172, 40.57195474,\n",
              "       44.06988872, 43.13728375, 47.03064473, 40.51755624, 32.94962492,\n",
              "       55.21918615, 19.71201341, 25.9076191 , 39.55869623, 26.64486613,\n",
              "       56.16690466, 25.230718  , 39.0328578 , 45.26752566, 28.49711058,\n",
              "       30.29054346, 36.91700457, 26.74230271])"
            ]
          },
          "metadata": {},
          "execution_count": 23
        }
      ]
    },
    {
      "cell_type": "code",
      "source": [
        "lr.coef_"
      ],
      "metadata": {
        "colab": {
          "base_uri": "https://localhost:8080/"
        },
        "id": "frb2Ch9GhNIe",
        "outputId": "91b2107f-4df7-4500-cf0c-88b388bfa6fd"
      },
      "execution_count": null,
      "outputs": [
        {
          "output_type": "execute_result",
          "data": {
            "text/plain": [
              "array([ 0.05104019,  0.03389385, -0.09434179, -0.55844525, -0.65300707,\n",
              "       -0.07369666, -0.08192503,  0.11387832])"
            ]
          },
          "metadata": {},
          "execution_count": 24
        }
      ]
    },
    {
      "cell_type": "code",
      "source": [
        "lr.intercept_"
      ],
      "metadata": {
        "colab": {
          "base_uri": "https://localhost:8080/"
        },
        "id": "-EKCQI8KhPAX",
        "outputId": "2f187e26-9d31-4098-f790-805a0d1f5aa1"
      },
      "execution_count": null,
      "outputs": [
        {
          "output_type": "execute_result",
          "data": {
            "text/plain": [
              "265.8846496127088"
            ]
          },
          "metadata": {},
          "execution_count": 25
        }
      ]
    },
    {
      "cell_type": "code",
      "source": [
        "lr.score(x_test, y_test)"
      ],
      "metadata": {
        "colab": {
          "base_uri": "https://localhost:8080/"
        },
        "id": "d1Lihafbho9V",
        "outputId": "e6672eaa-9ec5-446f-f4dc-e9328af7eb1d"
      },
      "execution_count": null,
      "outputs": [
        {
          "output_type": "execute_result",
          "data": {
            "text/plain": [
              "0.6586701577102547"
            ]
          },
          "metadata": {},
          "execution_count": 26
        }
      ]
    },
    {
      "cell_type": "code",
      "source": [
        "from sklearn.metrics import r2_score\n",
        "r2_score(y_test,y_pred)"
      ],
      "metadata": {
        "colab": {
          "base_uri": "https://localhost:8080/"
        },
        "id": "FjBXp2DdxzgK",
        "outputId": "8af4f1f6-3f7c-4e1d-db4a-7d23a3c5e98d"
      },
      "execution_count": null,
      "outputs": [
        {
          "output_type": "execute_result",
          "data": {
            "text/plain": [
              "0.6586701577102538"
            ]
          },
          "metadata": {},
          "execution_count": 20
        }
      ]
    },
    {
      "cell_type": "code",
      "source": [
        "import matplotlib.pyplot as plt\n",
        "plt.figure(figsize=(10,10))\n",
        "plt.scatter(y_test, y_pred)\n",
        "plt.xlabel('Actual')\n",
        "plt.ylabel('Predicted')\n",
        "plt.title('Actual vs Predicted')"
      ],
      "metadata": {
        "colab": {
          "base_uri": "https://localhost:8080/",
          "height": 638
        },
        "id": "N7XgE390g3Qm",
        "outputId": "eb16afd4-fa52-400f-8311-559c8f954d5e"
      },
      "execution_count": null,
      "outputs": [
        {
          "output_type": "execute_result",
          "data": {
            "text/plain": [
              "Text(0.5, 1.0, 'Actual vs Predicted')"
            ]
          },
          "metadata": {},
          "execution_count": 341
        },
        {
          "output_type": "display_data",
          "data": {
            "text/plain": [
              "<Figure size 720x720 with 1 Axes>"
            ],
            "image/png": "[encoded data removed]"
          },
          "metadata": {
            "needs_background": "light"
          }
        }
      ]
    },
    {
      "cell_type": "code",
      "source": [
        "pred_y_df = pd.DataFrame({'Actual Value':y_test, 'Predicted Value':y_pred, 'Difference': y_test-y_pred})\n",
        "pred_y_df[0:30]"
      ],
      "metadata": {
        "colab": {
          "base_uri": "https://localhost:8080/",
          "height": 990
        },
        "id": "NrD_uwcZhBN-",
        "outputId": "541d2485-b4d9-43ac-9443-b88c9f38de60"
      },
      "execution_count": null,
      "outputs": [
        {
          "output_type": "execute_result",
          "data": {
            "text/plain": [
              "    Actual Value  Predicted Value  Difference\n",
              "0          26.06        33.936583   -7.876583\n",
              "1          10.35        11.773084   -1.423084\n",
              "2          79.30        58.504921   20.795079\n",
              "3          74.99        61.754220   13.235780\n",
              "4           9.69        24.490010  -14.800010\n",
              "5          47.10        50.236909   -3.136909\n",
              "6          59.00        52.578624    6.421376\n",
              "7          22.72        27.160281   -4.440281\n",
              "8          61.89        64.549306   -2.659306\n",
              "9          52.12        36.634528   15.485472\n",
              "10         17.54        17.884762   -0.344762\n",
              "11         48.15        35.262391   12.887609\n",
              "12         38.33        31.274424    7.055576\n",
              "13         17.20        33.835626  -16.635626\n",
              "14         56.83        54.563700    2.266300\n",
              "15         55.25        60.747911   -5.497911\n",
              "16         33.36        37.964400   -4.604400\n",
              "17         34.68        30.620673    4.059327\n",
              "18         52.61        51.511726    1.098274\n",
              "19         39.94        37.383362    2.556638\n",
              "20         61.46        50.219238   11.240762\n",
              "21         27.63        33.743168   -6.113168\n",
              "22         32.90        28.734291    4.165709\n",
              "23         41.64        51.056212   -9.416212\n",
              "24         17.54        25.037125   -7.497125\n",
              "25         26.85        24.285105    2.564895\n",
              "26         66.90        55.894866   11.005134\n",
              "27         21.06        28.166735   -7.106735\n",
              "28         61.07        60.747911    0.322089\n",
              "29         66.95        53.018360   13.931640"
            ],
            "text/html": [
              "\n",
              "  <div id=\"df-32dec336-428d-41e6-82bb-bc81754f9da0\">\n",
              "    <div class=\"colab-df-container\">\n",
              "      <div>\n",
              "<style scoped>\n",
              "    .dataframe tbody tr th:only-of-type {\n",
              "        vertical-align: middle;\n",
              "    }\n",
              "\n",
              "    .dataframe tbody tr th {\n",
              "        vertical-align: top;\n",
              "    }\n",
              "\n",
              "    .dataframe thead th {\n",
              "        text-align: right;\n",
              "    }\n",
              "</style>\n",
              "<table border=\"1\" class=\"dataframe\">\n",
              "  <thead>\n",
              "    <tr style=\"text-align: right;\">\n",
              "      <th></th>\n",
              "      <th>Actual Value</th>\n",
              "      <th>Predicted Value</th>\n",
              "      <th>Difference</th>\n",
              "    </tr>\n",
              "  </thead>\n",
              "  <tbody>\n",
              "    <tr>\n",
              "      <th>0</th>\n",
              "      <td>26.06</td>\n",
              "      <td>33.936583</td>\n",
              "      <td>-7.876583</td>\n",
              "    </tr>\n",
              "    <tr>\n",
              "      <th>1</th>\n",
              "      <td>10.35</td>\n",
              "      <td>11.773084</td>\n",
              "      <td>-1.423084</td>\n",
              "    </tr>\n",
              "    <tr>\n",
              "      <th>2</th>\n",
              "      <td>79.30</td>\n",
              "      <td>58.504921</td>\n",
              "      <td>20.795079</td>\n",
              "    </tr>\n",
              "    <tr>\n",
              "      <th>3</th>\n",
              "      <td>74.99</td>\n",
              "      <td>61.754220</td>\n",
              "      <td>13.235780</td>\n",
              "    </tr>\n",
              "    <tr>\n",
              "      <th>4</th>\n",
              "      <td>9.69</td>\n",
              "      <td>24.490010</td>\n",
              "      <td>-14.800010</td>\n",
              "    </tr>\n",
              "    <tr>\n",
              "      <th>5</th>\n",
              "      <td>47.10</td>\n",
              "      <td>50.236909</td>\n",
              "      <td>-3.136909</td>\n",
              "    </tr>\n",
              "    <tr>\n",
              "      <th>6</th>\n",
              "      <td>59.00</td>\n",
              "      <td>52.578624</td>\n",
              "      <td>6.421376</td>\n",
              "    </tr>\n",
              "    <tr>\n",
              "      <th>7</th>\n",
              "      <td>22.72</td>\n",
              "      <td>27.160281</td>\n",
              "      <td>-4.440281</td>\n",
              "    </tr>\n",
              "    <tr>\n",
              "      <th>8</th>\n",
              "      <td>61.89</td>\n",
              "      <td>64.549306</td>\n",
              "      <td>-2.659306</td>\n",
              "    </tr>\n",
              "    <tr>\n",
              "      <th>9</th>\n",
              "      <td>52.12</td>\n",
              "      <td>36.634528</td>\n",
              "      <td>15.485472</td>\n",
              "    </tr>\n",
              "    <tr>\n",
              "      <th>10</th>\n",
              "      <td>17.54</td>\n",
              "      <td>17.884762</td>\n",
              "      <td>-0.344762</td>\n",
              "    </tr>\n",
              "    <tr>\n",
              "      <th>11</th>\n",
              "      <td>48.15</td>\n",
              "      <td>35.262391</td>\n",
              "      <td>12.887609</td>\n",
              "    </tr>\n",
              "    <tr>\n",
              "      <th>12</th>\n",
              "      <td>38.33</td>\n",
              "      <td>31.274424</td>\n",
              "      <td>7.055576</td>\n",
              "    </tr>\n",
              "    <tr>\n",
              "      <th>13</th>\n",
              "      <td>17.20</td>\n",
              "      <td>33.835626</td>\n",
              "      <td>-16.635626</td>\n",
              "    </tr>\n",
              "    <tr>\n",
              "      <th>14</th>\n",
              "      <td>56.83</td>\n",
              "      <td>54.563700</td>\n",
              "      <td>2.266300</td>\n",
              "    </tr>\n",
              "    <tr>\n",
              "      <th>15</th>\n",
              "      <td>55.25</td>\n",
              "      <td>60.747911</td>\n",
              "      <td>-5.497911</td>\n",
              "    </tr>\n",
              "    <tr>\n",
              "      <th>16</th>\n",
              "      <td>33.36</td>\n",
              "      <td>37.964400</td>\n",
              "      <td>-4.604400</td>\n",
              "    </tr>\n",
              "    <tr>\n",
              "      <th>17</th>\n",
              "      <td>34.68</td>\n",
              "      <td>30.620673</td>\n",
              "      <td>4.059327</td>\n",
              "    </tr>\n",
              "    <tr>\n",
              "      <th>18</th>\n",
              "      <td>52.61</td>\n",
              "      <td>51.511726</td>\n",
              "      <td>1.098274</td>\n",
              "    </tr>\n",
              "    <tr>\n",
              "      <th>19</th>\n",
              "      <td>39.94</td>\n",
              "      <td>37.383362</td>\n",
              "      <td>2.556638</td>\n",
              "    </tr>\n",
              "    <tr>\n",
              "      <th>20</th>\n",
              "      <td>61.46</td>\n",
              "      <td>50.219238</td>\n",
              "      <td>11.240762</td>\n",
              "    </tr>\n",
              "    <tr>\n",
              "      <th>21</th>\n",
              "      <td>27.63</td>\n",
              "      <td>33.743168</td>\n",
              "      <td>-6.113168</td>\n",
              "    </tr>\n",
              "    <tr>\n",
              "      <th>22</th>\n",
              "      <td>32.90</td>\n",
              "      <td>28.734291</td>\n",
              "      <td>4.165709</td>\n",
              "    </tr>\n",
              "    <tr>\n",
              "      <th>23</th>\n",
              "      <td>41.64</td>\n",
              "      <td>51.056212</td>\n",
              "      <td>-9.416212</td>\n",
              "    </tr>\n",
              "    <tr>\n",
              "      <th>24</th>\n",
              "      <td>17.54</td>\n",
              "      <td>25.037125</td>\n",
              "      <td>-7.497125</td>\n",
              "    </tr>\n",
              "    <tr>\n",
              "      <th>25</th>\n",
              "      <td>26.85</td>\n",
              "      <td>24.285105</td>\n",
              "      <td>2.564895</td>\n",
              "    </tr>\n",
              "    <tr>\n",
              "      <th>26</th>\n",
              "      <td>66.90</td>\n",
              "      <td>55.894866</td>\n",
              "      <td>11.005134</td>\n",
              "    </tr>\n",
              "    <tr>\n",
              "      <th>27</th>\n",
              "      <td>21.06</td>\n",
              "      <td>28.166735</td>\n",
              "      <td>-7.106735</td>\n",
              "    </tr>\n",
              "    <tr>\n",
              "      <th>28</th>\n",
              "      <td>61.07</td>\n",
              "      <td>60.747911</td>\n",
              "      <td>0.322089</td>\n",
              "    </tr>\n",
              "    <tr>\n",
              "      <th>29</th>\n",
              "      <td>66.95</td>\n",
              "      <td>53.018360</td>\n",
              "      <td>13.931640</td>\n",
              "    </tr>\n",
              "  </tbody>\n",
              "</table>\n",
              "</div>\n",
              "      <button class=\"colab-df-convert\" onclick=\"convertToInteractive('df-32dec336-428d-41e6-82bb-bc81754f9da0')\"\n",
              "              title=\"Convert this dataframe to an interactive table.\"\n",
              "              style=\"display:none;\">\n",
              "        \n",
              "  <svg xmlns=\"http://www.w3.org/2000/svg\" height=\"24px\"viewBox=\"0 0 24 24\"\n",
              "       width=\"24px\">\n",
              "    <path d=\"M0 0h24v24H0V0z\" fill=\"none\"/>\n",
              "    <path d=\"M18.56 5.44l.94 2.06.94-2.06 2.06-.94-2.06-.94-.94-2.06-.94 2.06-2.06.94zm-11 1L8.5 8.5l.94-2.06 2.06-.94-2.06-.94L8.5 2.5l-.94 2.06-2.06.94zm10 10l.94 2.06.94-2.06 2.06-.94-2.06-.94-.94-2.06-.94 2.06-2.06.94z\"/><path d=\"M17.41 7.96l-1.37-1.37c-.4-.4-.92-.59-1.43-.59-.52 0-1.04.2-1.43.59L10.3 9.45l-7.72 7.72c-.78.78-.78 2.05 0 2.83L4 21.41c.39.39.9.59 1.41.59.51 0 1.02-.2 1.41-.59l7.78-7.78 2.81-2.81c.8-.78.8-2.07 0-2.86zM5.41 20L4 18.59l7.72-7.72 1.47 1.35L5.41 20z\"/>\n",
              "  </svg>\n",
              "      </button>\n",
              "      \n",
              "  <style>\n",
              "    .colab-df-container {\n",
              "      display:flex;\n",
              "      flex-wrap:wrap;\n",
              "      gap: 12px;\n",
              "    }\n",
              "\n",
              "    .colab-df-convert {\n",
              "      background-color: #E8F0FE;\n",
              "      border: none;\n",
              "      border-radius: 50%;\n",
              "      cursor: pointer;\n",
              "      display: none;\n",
              "      fill: #1967D2;\n",
              "      height: 32px;\n",
              "      padding: 0 0 0 0;\n",
              "      width: 32px;\n",
              "    }\n",
              "\n",
              "    .colab-df-convert:hover {\n",
              "      background-color: #E2EBFA;\n",
              "      box-shadow: 0px 1px 2px rgba(60, 64, 67, 0.3), 0px 1px 3px 1px rgba(60, 64, 67, 0.15);\n",
              "      fill: #174EA6;\n",
              "    }\n",
              "\n",
              "    [theme=dark] .colab-df-convert {\n",
              "      background-color: #3B4455;\n",
              "      fill: #D2E3FC;\n",
              "    }\n",
              "\n",
              "    [theme=dark] .colab-df-convert:hover {\n",
              "      background-color: #434B5C;\n",
              "      box-shadow: 0px 1px 3px 1px rgba(0, 0, 0, 0.15);\n",
              "      filter: drop-shadow(0px 1px 2px rgba(0, 0, 0, 0.3));\n",
              "      fill: #FFFFFF;\n",
              "    }\n",
              "  </style>\n",
              "\n",
              "      <script>\n",
              "        const buttonEl =\n",
              "          document.querySelector('#df-32dec336-428d-41e6-82bb-bc81754f9da0 button.colab-df-convert');\n",
              "        buttonEl.style.display =\n",
              "          google.colab.kernel.accessAllowed ? 'block' : 'none';\n",
              "\n",
              "        async function convertToInteractive(key) {\n",
              "          const element = document.querySelector('#df-32dec336-428d-41e6-82bb-bc81754f9da0');\n",
              "          const dataTable =\n",
              "            await google.colab.kernel.invokeFunction('convertToInteractive',\n",
              "                                                     [key], {});\n",
              "          if (!dataTable) return;\n",
              "\n",
              "          const docLinkHtml = 'Like what you see? Visit the ' +\n",
              "            '<a target=\"_blank\" href=https://colab.research.google.com/notebooks/data_table.ipynb>data table notebook</a>'\n",
              "            + ' to learn more about interactive tables.';\n",
              "          element.innerHTML = '';\n",
              "          dataTable['output_type'] = 'display_data';\n",
              "          await google.colab.output.renderOutput(dataTable, element);\n",
              "          const docLink = document.createElement('div');\n",
              "          docLink.innerHTML = docLinkHtml;\n",
              "          element.appendChild(docLink);\n",
              "        }\n",
              "      </script>\n",
              "    </div>\n",
              "  </div>\n",
              "  "
            ]
          },
          "metadata": {},
          "execution_count": 317
        }
      ]
    },
    {
      "cell_type": "markdown",
      "source": [
        "End of Linear Regression Model"
      ],
      "metadata": {
        "id": "MAdDoD4kj3LX"
      }
    },
    {
      "cell_type": "code",
      "source": [
        "from sklearn.model_selection import train_test_split\n",
        "x_train, x_test, y_train, y_test = train_test_split(x, y, test_size=0.1, random_state=0)"
      ],
      "metadata": {
        "id": "BPyDUvXBhQRf"
      },
      "execution_count": null,
      "outputs": []
    },
    {
      "cell_type": "code",
      "source": [
        "# Random Forest Model\n",
        "from sklearn.ensemble import RandomForestRegressor\n",
        "rf = RandomForestRegressor(max_depth = 5)\n",
        "rf.fit(x_train, y_train)"
      ],
      "metadata": {
        "colab": {
          "base_uri": "https://localhost:8080/"
        },
        "id": "PwiN7RSzd1ZP",
        "outputId": "c26b5874-a011-4230-a83a-97dc1db6197a"
      },
      "execution_count": null,
      "outputs": [
        {
          "output_type": "execute_result",
          "data": {
            "text/plain": [
              "RandomForestRegressor(max_depth=5)"
            ]
          },
          "metadata": {},
          "execution_count": 353
        }
      ]
    },
    {
      "cell_type": "code",
      "source": [
        "rf.score(x_train, y_train)"
      ],
      "metadata": {
        "colab": {
          "base_uri": "https://localhost:8080/"
        },
        "id": "SbUFUVYzebJX",
        "outputId": "3ac48a58-61c0-4f73-99d6-719e01eb42d6"
      },
      "execution_count": null,
      "outputs": [
        {
          "output_type": "execute_result",
          "data": {
            "text/plain": [
              "0.8672368684844902"
            ]
          },
          "metadata": {},
          "execution_count": 354
        }
      ]
    },
    {
      "cell_type": "code",
      "source": [
        "y_pred = rf.predict(x_test)\n",
        "y_pred"
      ],
      "metadata": {
        "colab": {
          "base_uri": "https://localhost:8080/"
        },
        "id": "HxI6rE7YeuoP",
        "outputId": "19580674-7e81-4b35-c8be-f9af916d39a3"
      },
      "execution_count": null,
      "outputs": [
        {
          "output_type": "execute_result",
          "data": {
            "text/plain": [
              "array([27.38626343, 11.37199118, 73.18787857, 61.93306289, 11.36254303,\n",
              "       44.82649051, 59.05468543, 27.9725016 , 63.73861092, 44.11443779,\n",
              "       29.59352621, 44.13733379, 35.83286291, 14.82222985, 49.99732252,\n",
              "       57.45760496, 36.28985459, 35.87105026, 46.94450575, 44.70559994,\n",
              "       56.49524506, 33.67492812, 26.78282973, 34.05262937, 18.54385026,\n",
              "       32.91402592, 61.09521379, 26.65562952, 57.45760496, 50.18861211,\n",
              "       31.0870954 , 41.4772035 , 30.88754138, 39.16790064, 17.58160206,\n",
              "       12.1705163 , 32.85673961, 27.14708089, 35.75127888, 37.1267763 ,\n",
              "       32.80024458, 37.46812878, 34.73408731, 37.59795503, 58.04348564,\n",
              "       34.32874951, 28.14376038, 32.76682656, 34.38933111, 43.71392372,\n",
              "       45.44079668, 34.35347836, 23.87521153, 35.97695479, 45.23465164,\n",
              "       46.62791361, 41.90504511, 57.01445881, 63.143979  , 39.58760187,\n",
              "       38.05507012, 23.88292921, 61.85733198, 44.99514477, 13.77082415,\n",
              "       55.75215562, 35.44147666, 22.92675839, 19.76125221, 16.31918704,\n",
              "       15.92440098, 37.53024331, 48.24007404, 34.83727015, 38.68194135,\n",
              "       31.4628351 , 32.81196097, 13.59386256, 35.83415092, 36.49752087,\n",
              "       17.3508136 , 48.64267108, 15.79669049, 27.6903969 , 45.26658709,\n",
              "       42.07585117, 40.90727217, 54.92606501, 38.74052589, 42.18290629,\n",
              "       61.2455659 , 16.3677157 , 15.28099696, 43.12578149, 17.66085583,\n",
              "       42.26712276, 15.39129279, 35.599018  , 54.27081177, 37.45249701,\n",
              "       13.65360509, 17.10999103, 34.43757447])"
            ]
          },
          "metadata": {},
          "execution_count": 368
        }
      ]
    },
    {
      "cell_type": "code",
      "source": [
        "from sklearn.metrics import r2_score\n",
        "r2_score(y_test,y_pred)"
      ],
      "metadata": {
        "colab": {
          "base_uri": "https://localhost:8080/"
        },
        "id": "G8R2_hNBpOzF",
        "outputId": "9e12267f-f982-4482-f8a8-a84239f42c60"
      },
      "execution_count": null,
      "outputs": [
        {
          "output_type": "execute_result",
          "data": {
            "text/plain": [
              "0.8498240916103136"
            ]
          },
          "metadata": {},
          "execution_count": 369
        }
      ]
    },
    {
      "cell_type": "code",
      "source": [
        "import matplotlib.pyplot as plt\n",
        "plt.figure(figsize=(10,10))\n",
        "plt.scatter(y_test, y_pred)\n",
        "plt.xlabel('Actual')\n",
        "plt.ylabel('Predicted')\n",
        "plt.title('Actual vs Predicted')"
      ],
      "metadata": {
        "colab": {
          "base_uri": "https://localhost:8080/",
          "height": 638
        },
        "id": "wP_5vUqFfDuB",
        "outputId": "1806e615-359e-4c0c-89f6-8c51d38c8a00"
      },
      "execution_count": null,
      "outputs": [
        {
          "output_type": "execute_result",
          "data": {
            "text/plain": [
              "Text(0.5, 1.0, 'Actual vs Predicted')"
            ]
          },
          "metadata": {},
          "execution_count": 356
        },
        {
          "output_type": "display_data",
          "data": {
            "text/plain": [
              "<Figure size 720x720 with 1 Axes>"
            ],
            "image/png": "[encoded data removed]"
          },
          "metadata": {
            "needs_background": "light"
          }
        }
      ]
    },
    {
      "cell_type": "code",
      "source": [
        "pred_y_df = pd.DataFrame({'Actual Value':y_test, 'Predicted Value':y_pred, 'Difference': y_test-y_pred})\n",
        "pred_y_df[0:20]"
      ],
      "metadata": {
        "colab": {
          "base_uri": "https://localhost:8080/",
          "height": 677
        },
        "id": "EOqVqGL1fFsP",
        "outputId": "a87464d7-b4cc-418f-c9fb-0df51f155553"
      },
      "execution_count": null,
      "outputs": [
        {
          "output_type": "execute_result",
          "data": {
            "text/plain": [
              "    Actual Value  Predicted Value  Difference\n",
              "0          26.06        27.386263   -1.326263\n",
              "1          10.35        11.371991   -1.021991\n",
              "2          79.30        73.187879    6.112121\n",
              "3          74.99        61.933063   13.056937\n",
              "4           9.69        11.362543   -1.672543\n",
              "5          47.10        44.826491    2.273509\n",
              "6          59.00        59.054685   -0.054685\n",
              "7          22.72        27.972502   -5.252502\n",
              "8          61.89        63.738611   -1.848611\n",
              "9          52.12        44.114438    8.005562\n",
              "10         17.54        29.593526  -12.053526\n",
              "11         48.15        44.137334    4.012666\n",
              "12         38.33        35.832863    2.497137\n",
              "13         17.20        14.822230    2.377770\n",
              "14         56.83        49.997323    6.832677\n",
              "15         55.25        57.457605   -2.207605\n",
              "16         33.36        36.289855   -2.929855\n",
              "17         34.68        35.871050   -1.191050\n",
              "18         52.61        46.944506    5.665494\n",
              "19         39.94        44.705600   -4.765600"
            ],
            "text/html": [
              "\n",
              "  <div id=\"df-5a188841-55dc-4a6e-a0a1-5914475e3285\">\n",
              "    <div class=\"colab-df-container\">\n",
              "      <div>\n",
              "<style scoped>\n",
              "    .dataframe tbody tr th:only-of-type {\n",
              "        vertical-align: middle;\n",
              "    }\n",
              "\n",
              "    .dataframe tbody tr th {\n",
              "        vertical-align: top;\n",
              "    }\n",
              "\n",
              "    .dataframe thead th {\n",
              "        text-align: right;\n",
              "    }\n",
              "</style>\n",
              "<table border=\"1\" class=\"dataframe\">\n",
              "  <thead>\n",
              "    <tr style=\"text-align: right;\">\n",
              "      <th></th>\n",
              "      <th>Actual Value</th>\n",
              "      <th>Predicted Value</th>\n",
              "      <th>Difference</th>\n",
              "    </tr>\n",
              "  </thead>\n",
              "  <tbody>\n",
              "    <tr>\n",
              "      <th>0</th>\n",
              "      <td>26.06</td>\n",
              "      <td>27.386263</td>\n",
              "      <td>-1.326263</td>\n",
              "    </tr>\n",
              "    <tr>\n",
              "      <th>1</th>\n",
              "      <td>10.35</td>\n",
              "      <td>11.371991</td>\n",
              "      <td>-1.021991</td>\n",
              "    </tr>\n",
              "    <tr>\n",
              "      <th>2</th>\n",
              "      <td>79.30</td>\n",
              "      <td>73.187879</td>\n",
              "      <td>6.112121</td>\n",
              "    </tr>\n",
              "    <tr>\n",
              "      <th>3</th>\n",
              "      <td>74.99</td>\n",
              "      <td>61.933063</td>\n",
              "      <td>13.056937</td>\n",
              "    </tr>\n",
              "    <tr>\n",
              "      <th>4</th>\n",
              "      <td>9.69</td>\n",
              "      <td>11.362543</td>\n",
              "      <td>-1.672543</td>\n",
              "    </tr>\n",
              "    <tr>\n",
              "      <th>5</th>\n",
              "      <td>47.10</td>\n",
              "      <td>44.826491</td>\n",
              "      <td>2.273509</td>\n",
              "    </tr>\n",
              "    <tr>\n",
              "      <th>6</th>\n",
              "      <td>59.00</td>\n",
              "      <td>59.054685</td>\n",
              "      <td>-0.054685</td>\n",
              "    </tr>\n",
              "    <tr>\n",
              "      <th>7</th>\n",
              "      <td>22.72</td>\n",
              "      <td>27.972502</td>\n",
              "      <td>-5.252502</td>\n",
              "    </tr>\n",
              "    <tr>\n",
              "      <th>8</th>\n",
              "      <td>61.89</td>\n",
              "      <td>63.738611</td>\n",
              "      <td>-1.848611</td>\n",
              "    </tr>\n",
              "    <tr>\n",
              "      <th>9</th>\n",
              "      <td>52.12</td>\n",
              "      <td>44.114438</td>\n",
              "      <td>8.005562</td>\n",
              "    </tr>\n",
              "    <tr>\n",
              "      <th>10</th>\n",
              "      <td>17.54</td>\n",
              "      <td>29.593526</td>\n",
              "      <td>-12.053526</td>\n",
              "    </tr>\n",
              "    <tr>\n",
              "      <th>11</th>\n",
              "      <td>48.15</td>\n",
              "      <td>44.137334</td>\n",
              "      <td>4.012666</td>\n",
              "    </tr>\n",
              "    <tr>\n",
              "      <th>12</th>\n",
              "      <td>38.33</td>\n",
              "      <td>35.832863</td>\n",
              "      <td>2.497137</td>\n",
              "    </tr>\n",
              "    <tr>\n",
              "      <th>13</th>\n",
              "      <td>17.20</td>\n",
              "      <td>14.822230</td>\n",
              "      <td>2.377770</td>\n",
              "    </tr>\n",
              "    <tr>\n",
              "      <th>14</th>\n",
              "      <td>56.83</td>\n",
              "      <td>49.997323</td>\n",
              "      <td>6.832677</td>\n",
              "    </tr>\n",
              "    <tr>\n",
              "      <th>15</th>\n",
              "      <td>55.25</td>\n",
              "      <td>57.457605</td>\n",
              "      <td>-2.207605</td>\n",
              "    </tr>\n",
              "    <tr>\n",
              "      <th>16</th>\n",
              "      <td>33.36</td>\n",
              "      <td>36.289855</td>\n",
              "      <td>-2.929855</td>\n",
              "    </tr>\n",
              "    <tr>\n",
              "      <th>17</th>\n",
              "      <td>34.68</td>\n",
              "      <td>35.871050</td>\n",
              "      <td>-1.191050</td>\n",
              "    </tr>\n",
              "    <tr>\n",
              "      <th>18</th>\n",
              "      <td>52.61</td>\n",
              "      <td>46.944506</td>\n",
              "      <td>5.665494</td>\n",
              "    </tr>\n",
              "    <tr>\n",
              "      <th>19</th>\n",
              "      <td>39.94</td>\n",
              "      <td>44.705600</td>\n",
              "      <td>-4.765600</td>\n",
              "    </tr>\n",
              "  </tbody>\n",
              "</table>\n",
              "</div>\n",
              "      <button class=\"colab-df-convert\" onclick=\"convertToInteractive('df-5a188841-55dc-4a6e-a0a1-5914475e3285')\"\n",
              "              title=\"Convert this dataframe to an interactive table.\"\n",
              "              style=\"display:none;\">\n",
              "        \n",
              "  <svg xmlns=\"http://www.w3.org/2000/svg\" height=\"24px\"viewBox=\"0 0 24 24\"\n",
              "       width=\"24px\">\n",
              "    <path d=\"M0 0h24v24H0V0z\" fill=\"none\"/>\n",
              "    <path d=\"M18.56 5.44l.94 2.06.94-2.06 2.06-.94-2.06-.94-.94-2.06-.94 2.06-2.06.94zm-11 1L8.5 8.5l.94-2.06 2.06-.94-2.06-.94L8.5 2.5l-.94 2.06-2.06.94zm10 10l.94 2.06.94-2.06 2.06-.94-2.06-.94-.94-2.06-.94 2.06-2.06.94z\"/><path d=\"M17.41 7.96l-1.37-1.37c-.4-.4-.92-.59-1.43-.59-.52 0-1.04.2-1.43.59L10.3 9.45l-7.72 7.72c-.78.78-.78 2.05 0 2.83L4 21.41c.39.39.9.59 1.41.59.51 0 1.02-.2 1.41-.59l7.78-7.78 2.81-2.81c.8-.78.8-2.07 0-2.86zM5.41 20L4 18.59l7.72-7.72 1.47 1.35L5.41 20z\"/>\n",
              "  </svg>\n",
              "      </button>\n",
              "      \n",
              "  <style>\n",
              "    .colab-df-container {\n",
              "      display:flex;\n",
              "      flex-wrap:wrap;\n",
              "      gap: 12px;\n",
              "    }\n",
              "\n",
              "    .colab-df-convert {\n",
              "      background-color: #E8F0FE;\n",
              "      border: none;\n",
              "      border-radius: 50%;\n",
              "      cursor: pointer;\n",
              "      display: none;\n",
              "      fill: #1967D2;\n",
              "      height: 32px;\n",
              "      padding: 0 0 0 0;\n",
              "      width: 32px;\n",
              "    }\n",
              "\n",
              "    .colab-df-convert:hover {\n",
              "      background-color: #E2EBFA;\n",
              "      box-shadow: 0px 1px 2px rgba(60, 64, 67, 0.3), 0px 1px 3px 1px rgba(60, 64, 67, 0.15);\n",
              "      fill: #174EA6;\n",
              "    }\n",
              "\n",
              "    [theme=dark] .colab-df-convert {\n",
              "      background-color: #3B4455;\n",
              "      fill: #D2E3FC;\n",
              "    }\n",
              "\n",
              "    [theme=dark] .colab-df-convert:hover {\n",
              "      background-color: #434B5C;\n",
              "      box-shadow: 0px 1px 3px 1px rgba(0, 0, 0, 0.15);\n",
              "      filter: drop-shadow(0px 1px 2px rgba(0, 0, 0, 0.3));\n",
              "      fill: #FFFFFF;\n",
              "    }\n",
              "  </style>\n",
              "\n",
              "      <script>\n",
              "        const buttonEl =\n",
              "          document.querySelector('#df-5a188841-55dc-4a6e-a0a1-5914475e3285 button.colab-df-convert');\n",
              "        buttonEl.style.display =\n",
              "          google.colab.kernel.accessAllowed ? 'block' : 'none';\n",
              "\n",
              "        async function convertToInteractive(key) {\n",
              "          const element = document.querySelector('#df-5a188841-55dc-4a6e-a0a1-5914475e3285');\n",
              "          const dataTable =\n",
              "            await google.colab.kernel.invokeFunction('convertToInteractive',\n",
              "                                                     [key], {});\n",
              "          if (!dataTable) return;\n",
              "\n",
              "          const docLinkHtml = 'Like what you see? Visit the ' +\n",
              "            '<a target=\"_blank\" href=https://colab.research.google.com/notebooks/data_table.ipynb>data table notebook</a>'\n",
              "            + ' to learn more about interactive tables.';\n",
              "          element.innerHTML = '';\n",
              "          dataTable['output_type'] = 'display_data';\n",
              "          await google.colab.output.renderOutput(dataTable, element);\n",
              "          const docLink = document.createElement('div');\n",
              "          docLink.innerHTML = docLinkHtml;\n",
              "          element.appendChild(docLink);\n",
              "        }\n",
              "      </script>\n",
              "    </div>\n",
              "  </div>\n",
              "  "
            ]
          },
          "metadata": {},
          "execution_count": 357
        }
      ]
    },
    {
      "cell_type": "markdown",
      "source": [
        "End of Random Forest Model"
      ],
      "metadata": {
        "id": "H4RaDA-1kAJA"
      }
    },
    {
      "cell_type": "markdown",
      "source": [
        "**Old Code I have written**"
      ],
      "metadata": {
        "id": "71aZ1gU8iycu"
      }
    },
    {
      "cell_type": "code",
      "source": [
        "reg = linear_model.LinearRegression()\n",
        "reg.fit(df[[ df.columns[0], df.columns[1], df.columns[2], df.columns[3], df.columns[4], df.columns[5], df.columns[6], df.columns[7]]], df[[df.columns[8]]] )"
      ],
      "metadata": {
        "colab": {
          "base_uri": "https://localhost:8080/"
        },
        "id": "y17Uj1T0Zi0D",
        "outputId": "a5f33bf7-9a94-4505-db19-4a7e4a90532f"
      },
      "execution_count": null,
      "outputs": [
        {
          "output_type": "execute_result",
          "data": {
            "text/plain": [
              "LinearRegression()"
            ]
          },
          "metadata": {},
          "execution_count": 196
        }
      ]
    },
    {
      "cell_type": "code",
      "source": [
        "reg.coef_"
      ],
      "metadata": {
        "colab": {
          "base_uri": "https://localhost:8080/"
        },
        "id": "ZLbcfKUFsnZ2",
        "outputId": "6f69bba1-ac41-4b93-ac96-a6d83d1bb5ad"
      },
      "execution_count": null,
      "outputs": [
        {
          "output_type": "execute_result",
          "data": {
            "text/plain": [
              "array([[ 0.05113991,  0.03137921, -0.0960268 , -0.54895016, -0.63198371,\n",
              "        -0.07544639, -0.07926216,  0.11608121]])"
            ]
          },
          "metadata": {},
          "execution_count": 197
        }
      ]
    },
    {
      "cell_type": "code",
      "source": [
        "reg.intercept_"
      ],
      "metadata": {
        "colab": {
          "base_uri": "https://localhost:8080/"
        },
        "id": "rXyzVisusw5b",
        "outputId": "79ffecc6-2153-41a5-a84c-15d220ed7c81"
      },
      "execution_count": null,
      "outputs": [
        {
          "output_type": "execute_result",
          "data": {
            "text/plain": [
              "array([263.97959766])"
            ]
          },
          "metadata": {},
          "execution_count": 198
        }
      ]
    },
    {
      "cell_type": "code",
      "source": [
        "reg.score(df[[ df.columns[0], df.columns[1], df.columns[2], df.columns[3], df.columns[4], df.columns[5], df.columns[6], df.columns[7]]], df[[df.columns[8]]])"
      ],
      "metadata": {
        "colab": {
          "base_uri": "https://localhost:8080/"
        },
        "id": "LsGdt6R_1C4m",
        "outputId": "4a35a351-8110-4fd1-8d1b-bfd7bebcb663"
      },
      "execution_count": null,
      "outputs": [
        {
          "output_type": "execute_result",
          "data": {
            "text/plain": [
              "0.6044357291798613"
            ]
          },
          "metadata": {},
          "execution_count": 201
        }
      ]
    },
    {
      "cell_type": "code",
      "source": [
        "# get no.of rows - test_data.count()[0]\n",
        "for i in range(len(test_data)):\n",
        "    print(reg.predict([test_data.iloc[i,0:8].values]))"
      ],
      "metadata": {
        "colab": {
          "base_uri": "https://localhost:8080/"
        },
        "id": "ku5VJBx8s521",
        "outputId": "aca35b80-421d-4a1c-e6aa-537ced48df6d"
      },
      "execution_count": null,
      "outputs": [
        {
          "output_type": "stream",
          "name": "stdout",
          "text": [
            "[[36.29469436]]\n",
            "[[43.99113073]]\n",
            "[[42.68653884]]\n",
            "[[48.78809414]]\n",
            "[[49.25072897]]\n",
            "[[36.13613804]]\n",
            "[[23.40119434]]\n",
            "[[33.02506923]]\n",
            "[[29.80058843]]\n",
            "[[39.34667298]]\n",
            "[[33.57473933]]\n",
            "[[44.49709691]]\n",
            "[[47.17224986]]\n",
            "[[40.86704359]]\n",
            "[[39.61662216]]\n",
            "[[41.37497256]]\n",
            "[[22.10507335]]\n",
            "[[45.2085626]]\n",
            "[[40.74474608]]\n",
            "[[16.15553441]]\n",
            "[[38.06447229]]\n",
            "[[28.98367517]]\n",
            "[[39.41921896]]\n",
            "[[37.7216573]]\n",
            "[[33.28944979]]\n",
            "[[45.57458892]]\n",
            "[[36.518309]]\n",
            "[[29.97926235]]\n",
            "[[28.83834946]]\n",
            "[[35.07098824]]\n"
          ]
        },
        {
          "output_type": "stream",
          "name": "stderr",
          "text": [
            "/usr/local/lib/python3.7/dist-packages/sklearn/base.py:451: UserWarning: X does not have valid feature names, but LinearRegression was fitted with feature names\n",
            "  \"X does not have valid feature names, but\"\n",
            "/usr/local/lib/python3.7/dist-packages/sklearn/base.py:451: UserWarning: X does not have valid feature names, but LinearRegression was fitted with feature names\n",
            "  \"X does not have valid feature names, but\"\n",
            "/usr/local/lib/python3.7/dist-packages/sklearn/base.py:451: UserWarning: X does not have valid feature names, but LinearRegression was fitted with feature names\n",
            "  \"X does not have valid feature names, but\"\n",
            "/usr/local/lib/python3.7/dist-packages/sklearn/base.py:451: UserWarning: X does not have valid feature names, but LinearRegression was fitted with feature names\n",
            "  \"X does not have valid feature names, but\"\n",
            "/usr/local/lib/python3.7/dist-packages/sklearn/base.py:451: UserWarning: X does not have valid feature names, but LinearRegression was fitted with feature names\n",
            "  \"X does not have valid feature names, but\"\n",
            "/usr/local/lib/python3.7/dist-packages/sklearn/base.py:451: UserWarning: X does not have valid feature names, but LinearRegression was fitted with feature names\n",
            "  \"X does not have valid feature names, but\"\n",
            "/usr/local/lib/python3.7/dist-packages/sklearn/base.py:451: UserWarning: X does not have valid feature names, but LinearRegression was fitted with feature names\n",
            "  \"X does not have valid feature names, but\"\n",
            "/usr/local/lib/python3.7/dist-packages/sklearn/base.py:451: UserWarning: X does not have valid feature names, but LinearRegression was fitted with feature names\n",
            "  \"X does not have valid feature names, but\"\n",
            "/usr/local/lib/python3.7/dist-packages/sklearn/base.py:451: UserWarning: X does not have valid feature names, but LinearRegression was fitted with feature names\n",
            "  \"X does not have valid feature names, but\"\n",
            "/usr/local/lib/python3.7/dist-packages/sklearn/base.py:451: UserWarning: X does not have valid feature names, but LinearRegression was fitted with feature names\n",
            "  \"X does not have valid feature names, but\"\n",
            "/usr/local/lib/python3.7/dist-packages/sklearn/base.py:451: UserWarning: X does not have valid feature names, but LinearRegression was fitted with feature names\n",
            "  \"X does not have valid feature names, but\"\n",
            "/usr/local/lib/python3.7/dist-packages/sklearn/base.py:451: UserWarning: X does not have valid feature names, but LinearRegression was fitted with feature names\n",
            "  \"X does not have valid feature names, but\"\n",
            "/usr/local/lib/python3.7/dist-packages/sklearn/base.py:451: UserWarning: X does not have valid feature names, but LinearRegression was fitted with feature names\n",
            "  \"X does not have valid feature names, but\"\n",
            "/usr/local/lib/python3.7/dist-packages/sklearn/base.py:451: UserWarning: X does not have valid feature names, but LinearRegression was fitted with feature names\n",
            "  \"X does not have valid feature names, but\"\n",
            "/usr/local/lib/python3.7/dist-packages/sklearn/base.py:451: UserWarning: X does not have valid feature names, but LinearRegression was fitted with feature names\n",
            "  \"X does not have valid feature names, but\"\n",
            "/usr/local/lib/python3.7/dist-packages/sklearn/base.py:451: UserWarning: X does not have valid feature names, but LinearRegression was fitted with feature names\n",
            "  \"X does not have valid feature names, but\"\n",
            "/usr/local/lib/python3.7/dist-packages/sklearn/base.py:451: UserWarning: X does not have valid feature names, but LinearRegression was fitted with feature names\n",
            "  \"X does not have valid feature names, but\"\n",
            "/usr/local/lib/python3.7/dist-packages/sklearn/base.py:451: UserWarning: X does not have valid feature names, but LinearRegression was fitted with feature names\n",
            "  \"X does not have valid feature names, but\"\n",
            "/usr/local/lib/python3.7/dist-packages/sklearn/base.py:451: UserWarning: X does not have valid feature names, but LinearRegression was fitted with feature names\n",
            "  \"X does not have valid feature names, but\"\n",
            "/usr/local/lib/python3.7/dist-packages/sklearn/base.py:451: UserWarning: X does not have valid feature names, but LinearRegression was fitted with feature names\n",
            "  \"X does not have valid feature names, but\"\n",
            "/usr/local/lib/python3.7/dist-packages/sklearn/base.py:451: UserWarning: X does not have valid feature names, but LinearRegression was fitted with feature names\n",
            "  \"X does not have valid feature names, but\"\n",
            "/usr/local/lib/python3.7/dist-packages/sklearn/base.py:451: UserWarning: X does not have valid feature names, but LinearRegression was fitted with feature names\n",
            "  \"X does not have valid feature names, but\"\n",
            "/usr/local/lib/python3.7/dist-packages/sklearn/base.py:451: UserWarning: X does not have valid feature names, but LinearRegression was fitted with feature names\n",
            "  \"X does not have valid feature names, but\"\n",
            "/usr/local/lib/python3.7/dist-packages/sklearn/base.py:451: UserWarning: X does not have valid feature names, but LinearRegression was fitted with feature names\n",
            "  \"X does not have valid feature names, but\"\n",
            "/usr/local/lib/python3.7/dist-packages/sklearn/base.py:451: UserWarning: X does not have valid feature names, but LinearRegression was fitted with feature names\n",
            "  \"X does not have valid feature names, but\"\n",
            "/usr/local/lib/python3.7/dist-packages/sklearn/base.py:451: UserWarning: X does not have valid feature names, but LinearRegression was fitted with feature names\n",
            "  \"X does not have valid feature names, but\"\n",
            "/usr/local/lib/python3.7/dist-packages/sklearn/base.py:451: UserWarning: X does not have valid feature names, but LinearRegression was fitted with feature names\n",
            "  \"X does not have valid feature names, but\"\n",
            "/usr/local/lib/python3.7/dist-packages/sklearn/base.py:451: UserWarning: X does not have valid feature names, but LinearRegression was fitted with feature names\n",
            "  \"X does not have valid feature names, but\"\n",
            "/usr/local/lib/python3.7/dist-packages/sklearn/base.py:451: UserWarning: X does not have valid feature names, but LinearRegression was fitted with feature names\n",
            "  \"X does not have valid feature names, but\"\n",
            "/usr/local/lib/python3.7/dist-packages/sklearn/base.py:451: UserWarning: X does not have valid feature names, but LinearRegression was fitted with feature names\n",
            "  \"X does not have valid feature names, but\"\n"
          ]
        }
      ]
    },
    {
      "cell_type": "code",
      "source": [
        "X = df.iloc[:,0:8]\n",
        "y = df.iloc[:, 8]\n",
        "# print(x.iloc[:,0], np.max(x.iloc[:,0]))\n",
        "\n",
        "# Normalize the input variables\n",
        "for i in range(0, len(X.columns)):\n",
        "    X.iloc[:,i] = X.iloc[:,i]/np.max(X.iloc[:,i])\n",
        "X.head()\n",
        "\n",
        "# Initiate the theta values\n",
        "theta = np.array([0]*len(X.columns))\n",
        "#Output: array([0, 0, 0])\n",
        "\n",
        "# Calculate the number of training data\n",
        "m = len(df)\n",
        "\n",
        "# Define the hypothesis function\n",
        "def hypothesis(theta, X):\n",
        "    return theta*X\n",
        "\n",
        "# Define the cost function\n",
        "def computeCost(X, y, theta):\n",
        "    y1 = hypothesis(theta, X)\n",
        "    y1=np.sum(y1, axis=1)\n",
        "    return sum(np.sqrt((y1-y)**2))/(2*len(X))\n",
        "\n",
        "# Function for the gradient descent\n",
        "def gradientDescent(X, y, theta, alpha, i):\n",
        "    J = []  #cost function in each iterations\n",
        "    k = 0\n",
        "    while k < i:        \n",
        "        y1 = hypothesis(theta, X)\n",
        "        y1 = np.sum(y1, axis=1)\n",
        "        for c in range(0, len(X.columns)):\n",
        "            theta[c] = theta[c] - alpha*(sum((y1-y)*X.iloc[:,c])/len(X))\n",
        "        j = computeCost(X, y, theta)\n",
        "        J.append(j)\n",
        "        k += 1\n",
        "    return J, j, theta\n",
        "\n",
        "J, j, theta = gradientDescent(X, y, theta, 0.05, 10000)\n",
        "\n",
        "# Predict the output\n",
        "y_hat = hypothesis(theta, X)\n",
        "y_hat = np.sum(y_hat, axis=1)\n",
        "\n",
        "# Plot the original y and the predicted output ‘y_hat’\n",
        "import matplotlib.pyplot as plt\n",
        "plt.figure()\n",
        "plt.scatter(x=list(range(0, 1030)), y=y, color='blue')         \n",
        "plt.scatter(x=list(range(0, 1030)), y=y_hat, color='black')\n",
        "plt.show()\n",
        "\n",
        "plt.figure()\n",
        "plt.scatter(x=list(range(0, 10000)), y=J)\n",
        "plt.show()"
      ],
      "metadata": {
        "colab": {
          "base_uri": "https://localhost:8080/",
          "height": 513
        },
        "id": "mgRQSQIpovVc",
        "outputId": "cc6b34cc-a219-45e4-cbd5-6541368e758b"
      },
      "execution_count": null,
      "outputs": [
        {
          "output_type": "display_data",
          "data": {
            "text/plain": [
              "<Figure size 432x288 with 1 Axes>"
            ],
            "image/png": "[encoded data removed]"
          },
          "metadata": {
            "needs_background": "light"
          }
        },
        {
          "output_type": "display_data",
          "data": {
            "text/plain": [
              "<Figure size 432x288 with 1 Axes>"
            ],
            "image/png": "[encoded data removed]"
          },
          "metadata": {
            "needs_background": "light"
          }
        }
      ]
    }
  ]
}